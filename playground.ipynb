{
 "metadata": {
  "language_info": {
   "codemirror_mode": {
    "name": "ipython",
    "version": 3
   },
   "file_extension": ".py",
   "mimetype": "text/x-python",
   "name": "python",
   "nbconvert_exporter": "python",
   "pygments_lexer": "ipython3",
   "version": "3.8.5-final"
  },
  "orig_nbformat": 2,
  "kernelspec": {
   "name": "python3",
   "display_name": "Python 3.8.5 64-bit",
   "metadata": {
    "interpreter": {
     "hash": "e675de05f2dbb7fb877961e009a7ca1c195e4f85742f4de6f9425e0c7dcee330"
    }
   }
  }
 },
 "nbformat": 4,
 "nbformat_minor": 2,
 "cells": [
  {
   "cell_type": "code",
   "execution_count": 2,
   "metadata": {},
   "outputs": [
    {
     "output_type": "stream",
     "name": "stdout",
     "text": [
      "Your bmi is 27 and you are overweight\n"
     ]
    }
   ],
   "source": [
    "# BMI CALCULATOR\n",
    "\n",
    "height = input(\"enter your height in m: \")\n",
    "weight = input(\"enter your weight in kg: \")\n",
    "\n",
    "bmi = int (weight) / float (height) ** 2\n",
    "bmi_int = int (bmi)\n",
    "# print (bmi_int)\n",
    "if bmi_int < 18:\n",
    "    print(f\"Your bmi is {bmi_int} and you are underweight.\")\n",
    "elif bmi_int < 25:\n",
    "    print(f\"Your bmi is {bmi_int} and you are normal weight.\")\n",
    "elif bmi_int < 30:\n",
    "    print(f\"Your bmi is {bmi_int} and you are overweight.\")\n",
    "elif bmi_int < 35:\n",
    "    print(f\"Your bmi is {bmi_int} and you are obese.\")\n",
    "else:\n",
    "    print(f\"Your bmi is {bmi_int} and you are clinically obese.\")\n"
   ]
  },
  {
   "cell_type": "code",
   "execution_count": 5,
   "metadata": {},
   "outputs": [
    {
     "output_type": "stream",
     "name": "stdout",
     "text": [
      "You have 23725 days, 3380 weeks and 780 months left.\n"
     ]
    }
   ],
   "source": [
    "# Life in Weeks\n",
    "\n",
    "age = input('What is your current age?: ')\n",
    "age_as_int = int(age)\n",
    "\n",
    "years = 90 - age_as_int\n",
    "days = years * 365\n",
    "weeks = years * 52\n",
    "months = years * 12\n",
    "\n",
    "life_in_weeks = f'You have {days} days, {weeks} weeks and {months} months left.'\n",
    "print(life_in_weeks)"
   ]
  },
  {
   "cell_type": "code",
   "execution_count": 8,
   "metadata": {},
   "outputs": [
    {
     "output_type": "stream",
     "name": "stdout",
     "text": [
      "Welcome to the Split Calculator\n",
      "How much each person should split is : $ 42.00\n"
     ]
    }
   ],
   "source": [
    "# Split-Wise duplicate\n",
    "\n",
    "print('Welcome to the Split Calculator')\n",
    "bill = float(input('What was the total bill? $ '))\n",
    "tip = int(input(\"How much tip did you gave? 10% or 12% or 20%? : \"))\n",
    "people = int(input(\"How many people to split the bill? : \"))\n",
    "\n",
    "bill_with_tip = tip / 100 * bill + bill\n",
    "split_with_tip = bill_with_tip / people\n",
    "\n",
    "final_amount = round(split_with_tip, 2)\n",
    "final_amount = \"{:.2f}\".format(split_with_tip) # Formatting to two decimal digits\n",
    "\n",
    "print(f\"How much each person should split is : $ {final_amount}\")"
   ]
  },
  {
   "cell_type": "code",
   "execution_count": 1,
   "metadata": {},
   "outputs": [
    {
     "output_type": "stream",
     "name": "stdout",
     "text": [
      "This is an even number.\n"
     ]
    }
   ],
   "source": [
    "number = int(input(\"Which number do you want to check?: \"))\n",
    "if number % 2 == 0:\n",
    "    print(\"This is an even number.\")\n",
    "else:\n",
    "    print(\"This is an odd number.\")\n"
   ]
  },
  {
   "cell_type": "code",
   "execution_count": 3,
   "metadata": {},
   "outputs": [
    {
     "output_type": "stream",
     "name": "stdout",
     "text": [
      "2024 is a leap year.\n"
     ]
    }
   ],
   "source": [
    "# Leap Year\n",
    "\n",
    "year = int(input(\"Which year do you want to check?: \"))\n",
    "\n",
    "if (year % 4) == 0:\n",
    "    if (year % 100) == 0:\n",
    "        if (year % 400) == 0:\n",
    "            print (f\"{year} is a leap year.\")\n",
    "        else:\n",
    "            print (f\"{year} is not a leap year.\")\n",
    "    else:\n",
    "        print (f\"{year} is a leap year.\")\n",
    "else:\n",
    "    print (f\"{year} is not a leap year.\")"
   ]
  },
  {
   "cell_type": "code",
   "execution_count": 6,
   "metadata": {},
   "outputs": [
    {
     "output_type": "stream",
     "name": "stdout",
     "text": [
      "Welcome to Python Pizza Deliveries!\n",
      "Your final bill is $24\n"
     ]
    }
   ],
   "source": [
    "print(\"Welcome to Python Pizza Deliveries!\")\n",
    "size = input(\"What size do you want? S, M or L : \")\n",
    "add_pepperoni = input(\"Do you want pepperoni? Y or N : \")\n",
    "extra_cheese = input(\"Do you want extra cheese? Y or N : \")\n",
    "\n",
    "bill = 0\n",
    "\n",
    "if size == 'S':\n",
    "    bill += 15\n",
    "elif size == 'M':\n",
    "    bill += 20\n",
    "else:\n",
    "    bill += 25\n",
    "\n",
    "if add_pepperoni == 'Y':\n",
    "    if size == 'S':\n",
    "        bill += 2\n",
    "    else:\n",
    "        bill += 3\n",
    "if extra_cheese == 'Y':\n",
    "    bill += 1\n",
    "\n",
    "print(f'Your final bill is ${bill}')"
   ]
  },
  {
   "cell_type": "code",
   "execution_count": 8,
   "metadata": {},
   "outputs": [
    {
     "output_type": "stream",
     "name": "stdout",
     "text": [
      "Welcome to the Love Calculator\n",
      "Your love score is 12.\n"
     ]
    }
   ],
   "source": [
    "print(\"Welcome to the Love Calculator\")\n",
    "print(\"This is based on the article from TheBuzzFeed\")\n",
    "\n",
    "name1 = input(\"What is your name? \\n\")\n",
    "name2 = input(\"What is your partner's name? \\n\")\n",
    "\n",
    "combined_string = name1 + name2\n",
    "lower_case_string = combined_string.lower()\n",
    "\n",
    "t = lower_case_string.count(\"t\")\n",
    "r = lower_case_string.count(\"r\")\n",
    "u = lower_case_string.count(\"u\")\n",
    "e = lower_case_string.count(\"e\")\n",
    "\n",
    "true = t + r + u + e\n",
    "\n",
    "l = lower_case_string.count(\"l\")\n",
    "o = lower_case_string.count(\"o\")\n",
    "v = lower_case_string.count(\"v\")\n",
    "e = lower_case_string.count(\"e\")\n",
    "\n",
    "love = l + o + v + e\n",
    "\n",
    "love_score = int(str(true) + str(love))\n",
    "\n",
    "if (love_score < 10) or (love_score > 90):\n",
    "   print (f\"Your love score is {love_score}, you go together like coke and mentos.\")\n",
    "elif (love_score >= 40) and (love_score <= 50):\n",
    "   print (f\"Your love score is {love_score}, you are alright together.\")\n",
    "else:\n",
    "   print (f\"Your love score is {love_score}.\")\n",
    "\n",
    "    "
   ]
  },
  {
   "cell_type": "code",
   "execution_count": 11,
   "metadata": {},
   "outputs": [
    {
     "output_type": "stream",
     "name": "stdout",
     "text": [
      "Heads\n"
     ]
    }
   ],
   "source": [
    "# Toss\n",
    "\n",
    "import random\n",
    "\n",
    "random_side = random.randint(0, 1)\n",
    "if random_side == 1:\n",
    "    print(\"Heads\")\n",
    "else:\n",
    "    print(\"Tails\")"
   ]
  },
  {
   "cell_type": "code",
   "execution_count": 2,
   "metadata": {},
   "outputs": [
    {
     "output_type": "stream",
     "name": "stdout",
     "text": [
      "Sumaj is going to buy the meal today!\n"
     ]
    }
   ],
   "source": [
    "# Split string method\n",
    "import random\n",
    "names_string = input(\"Give me everybody's names, separated by a comma. \")\n",
    "names = names_string.split(\", \")\n",
    "\n",
    "# first method\n",
    "# num_items = len(names)\n",
    "# random_choice = random.randint(0, num_items - 1)\n",
    "# person_who_will_pay = names[random_choice]\n",
    "\n",
    "# second method using random.choice\n",
    "person_who_will_pay = random.choice(names)\n",
    "print(f\"{person_who_will_pay} is going to buy the meal today!\")\n"
   ]
  },
  {
   "cell_type": "code",
   "execution_count": 3,
   "metadata": {},
   "outputs": [
    {
     "output_type": "stream",
     "name": "stdout",
     "text": [
      "[['Strawberries', 'Nectarines', 'Apples', 'Grapes', 'Peaches', 'Cherries', 'Pears'], ['Spinach', 'Kale', 'Tomatoes', 'Celery', 'Potatoes']]\n['Strawberries', 'Nectarines', 'Apples', 'Grapes', 'Peaches', 'Cherries', 'Pears']\n['Spinach', 'Kale', 'Tomatoes', 'Celery', 'Potatoes']\nTomatoes\nCelery\n"
     ]
    }
   ],
   "source": [
    "fruits = [\"Strawberries\", \"Nectarines\", \"Apples\", \"Grapes\", \"Peaches\", \"Cherries\", \"Pears\"]\n",
    "vegetables = [\"Spinach\", \"Kale\", \"Tomatoes\", \"Celery\", \"Potatoes\"]\n",
    " \n",
    "dirty_dozen = [fruits, vegetables]\n",
    "print(dirty_dozen)\n",
    "print(dirty_dozen[0])\n",
    "print(dirty_dozen[1])\n",
    "print(dirty_dozen[1][2])\n",
    "print(dirty_dozen[1][3])"
   ]
  },
  {
   "cell_type": "code",
   "execution_count": 5,
   "metadata": {},
   "outputs": [
    {
     "output_type": "stream",
     "name": "stdout",
     "text": [
      "['⬜️', '⬜️', '⬜️']\n",
      "['⬜️', '⬜️', '⬜️']\n",
      "['⬜️', '⬜️', '⬜️']\n",
      "Marker Position:\n",
      "['⬜️', '⬜️', '⬜️']\n",
      "['⬜️', '⬜️', '⬜️']\n",
      "['⬜️', 'X', '⬜️']\n"
     ]
    }
   ],
   "source": [
    "# Treasure_Map\n",
    "\n",
    "row1 = [\"⬜️\",\"⬜️\",\"⬜️\"]\n",
    "row2 = [\"⬜️\",\"⬜️\",\"⬜️\"]\n",
    "row3 = [\"⬜️\",\"⬜️\",\"⬜️\"]\n",
    "map = [row1, row2, row3]\n",
    "print(f\"{row1}\\n{row2}\\n{row3}\")\n",
    "position = input(\"Where do you want to put the treasure? \")\n",
    "\n",
    "horizontal = int(position[0])\n",
    "vertical = int (position[1])\n",
    "\n",
    "selected_row = map[vertical - 1]\n",
    "selected_row[horizontal - 1] = 'X'\n",
    "\n",
    "print(\"Marker Position:\")\n",
    "print(f\"{row1}\\n{row2}\\n{row3}\")"
   ]
  },
  {
   "cell_type": "code",
   "execution_count": 8,
   "metadata": {},
   "outputs": [
    {
     "output_type": "stream",
     "name": "stdout",
     "text": [
      "List of heights: [156, 178, 165, 171, 187]\nSum of the height: 857\nNo. of student: 5\nAverage Height: 171\n"
     ]
    }
   ],
   "source": [
    "student_heights = input(\"Input a list of student heights \").split()\n",
    "for n in range(0, len(student_heights)):\n",
    "  student_heights[n] = int(student_heights[n])\n",
    "print(f'List of heights: {student_heights}')\n",
    "\n",
    "# total_height = sum(student_heights)\n",
    "# no_of_students = len(student_heights)\n",
    "# average_height = round(total_height/no_of_students)\n",
    "# print(average_height)\n",
    "\n",
    "total_height = 0\n",
    "for height in student_heights:\n",
    "    total_height += height\n",
    "\n",
    "no_of_students = 0\n",
    "for student in student_heights:\n",
    "    no_of_students += 1\n",
    "\n",
    "average_height = 0\n",
    "for average_height in student_heights:\n",
    "    average_height = round(total_height/no_of_students)\n",
    "\n",
    "print(f'Sum of the height: {total_height}')\n",
    "print(f'No. of student: {no_of_students}')\n",
    "print(f'Average Height: {average_height}')"
   ]
  },
  {
   "cell_type": "code",
   "execution_count": 1,
   "metadata": {},
   "outputs": [
    {
     "output_type": "stream",
     "name": "stdout",
     "text": [
      "The highest score in the class is 91\n"
     ]
    }
   ],
   "source": [
    "student_scores = [78, 65, 89, 86, 55, 91, 64, 89]\n",
    "\n",
    "highest_score = 0\n",
    "for score in student_scores:\n",
    "    if score > highest_score:\n",
    "        highest_score = score\n",
    "print(f\"The highest score in the class is {highest_score}\")"
   ]
  },
  {
   "cell_type": "code",
   "execution_count": 9,
   "metadata": {},
   "outputs": [
    {
     "output_type": "stream",
     "name": "stdout",
     "text": [
      "2550\n"
     ]
    }
   ],
   "source": [
    "# Sum of Even Numbers\n",
    "even_number = 0\n",
    "for even in range(2, 101, 2):\n",
    "    even_number += even\n",
    "print(even_number)\n"
   ]
  },
  {
   "cell_type": "code",
   "execution_count": 11,
   "metadata": {},
   "outputs": [
    {
     "output_type": "stream",
     "name": "stdout",
     "text": [
      "1\n2\nFizz\n4\nBuzz\nFizz\n7\n8\nFizz\nBuzz\n11\nFizz\n13\n14\nFizzBuzz\n16\n17\nFizz\n19\nBuzz\nFizz\n22\n23\nFizz\nBuzz\n26\nFizz\n28\n29\nFizzBuzz\n31\n32\nFizz\n34\nBuzz\nFizz\n37\n38\nFizz\nBuzz\n41\nFizz\n43\n44\nFizzBuzz\n46\n47\nFizz\n49\nBuzz\nFizz\n52\n53\nFizz\nBuzz\n56\nFizz\n58\n59\nFizzBuzz\n61\n62\nFizz\n64\nBuzz\nFizz\n67\n68\nFizz\nBuzz\n71\nFizz\n73\n74\nFizzBuzz\n76\n77\nFizz\n79\nBuzz\nFizz\n82\n83\nFizz\nBuzz\n86\nFizz\n88\n89\nFizzBuzz\n91\n92\nFizz\n94\nBuzz\nFizz\n97\n98\nFizz\nBuzz\n"
     ]
    }
   ],
   "source": [
    "# FizzBuzz Interview Question\n",
    "\n",
    "for number in range(1, 101):\n",
    "    if number % 3 == 0 and number % 5 == 0:\n",
    "        print (\"FizzBuzz\")\n",
    "    elif number % 3 == 0:\n",
    "        print (\"Fizz\")\n",
    "    elif number % 5 == 0:\n",
    "        print (\"Buzz\")\n",
    "    else:\n",
    "        print(number)"
   ]
  },
  {
   "cell_type": "code",
   "execution_count": 11,
   "metadata": {},
   "outputs": [
    {
     "output_type": "stream",
     "name": "stdout",
     "text": [
      "Hello Manoj\nWhat its like in Riga\n"
     ]
    }
   ],
   "source": [
    "def greet_name(name,location):\n",
    "    print(f\"Hello {name}\")\n",
    "    print(f\"What its like in {location}\")\n",
    "# greet_name() = input()\n",
    "# print(greet_name)\n",
    "greet_name(name=\"Manoj\", location=\"Riga\")"
   ]
  },
  {
   "cell_type": "code",
   "execution_count": 16,
   "metadata": {},
   "outputs": [
    {
     "output_type": "stream",
     "name": "stdout",
     "text": [
      "Number of cans required: 7\n"
     ]
    }
   ],
   "source": [
    "\n",
    "def paint_calc(height, width, cover):\n",
    "    number_of_cans = (height * width) / cover\n",
    "    total = round(number_of_cans)\n",
    "    print(f\"Number of cans required: {total}\" )\n",
    "\n",
    "test_h = int(input(\"Height of wall: \"))\n",
    "test_w = int(input(\"Width of wall: \"))\n",
    "coverage = 5\n",
    "paint_calc(height=test_h, width=test_w, cover=coverage)\n"
   ]
  },
  {
   "cell_type": "code",
   "execution_count": 22,
   "metadata": {},
   "outputs": [
    {
     "output_type": "stream",
     "name": "stdout",
     "text": [
      "It is a prime number\n"
     ]
    }
   ],
   "source": [
    "def prime_checker(number):\n",
    "    is_prime = True\n",
    "    for i in range(2, number):\n",
    "        if number % i == 0:\n",
    "            is_prime = False\n",
    "    if is_prime:\n",
    "        print(\"It is a prime number\")\n",
    "    else:\n",
    "        print(\"It is not a prime number\")\n",
    "\n",
    "n = int(input(\"Check this number: \"))\n",
    "prime_checker(number=n) # n=2"
   ]
  },
  {
   "cell_type": "code",
   "execution_count": 3,
   "metadata": {},
   "outputs": [
    {
     "output_type": "stream",
     "name": "stdout",
     "text": [
      "{'Harry': 'Exceeds Expectations', 'Ron': 'Accepatable', 'Hermione': 'Outstanding', 'Draco': 'Accepatable', 'Neville': 'Fail'}\n"
     ]
    }
   ],
   "source": [
    "student_scores = {\n",
    "  \"Harry\": 81,\n",
    "  \"Ron\": 78,\n",
    "  \"Hermione\": 99, \n",
    "  \"Draco\": 74,\n",
    "  \"Neville\": 62,\n",
    "}\n",
    "#TODO-1: Create an empty dictionary called student_grades.\n",
    "student_grades = {}\n",
    "\n",
    "#TODO-2: Write your code below to add the grades to student_grades.👇\n",
    "for student in student_scores:\n",
    "    score = student_scores[student]\n",
    "    if score > 90:\n",
    "        student_grades[student] = \"Outstanding\"\n",
    "    elif score > 80:\n",
    "        student_grades[student] = \"Exceeds Expectations\"\n",
    "    elif score > 70:\n",
    "        student_grades[student] = \"Accepatable\"\n",
    "    else:\n",
    "        student_grades[student] = \"Fail\"\n",
    "    \n",
    "print(student_grades)\n"
   ]
  },
  {
   "cell_type": "code",
   "execution_count": 7,
   "metadata": {},
   "outputs": [
    {
     "output_type": "stream",
     "name": "stdout",
     "text": [
      "[{'country': 'France', 'visits': 12, 'cities': ['Paris', 'Lille', 'Dijon']}, {'country': 'Germany', 'visits': 5, 'cities': ['Berlin', 'Hamburg', 'Stuttgart']}, {'country': 'Russia', 'visits': 2, 'cities': ['Moscow', 'Saint Petersburg']}]\n"
     ]
    }
   ],
   "source": [
    "travel_log = [\n",
    "{\n",
    "  \"country\": \"France\",\n",
    "  \"visits\": 12,\n",
    "  \"cities\": [\"Paris\", \"Lille\", \"Dijon\"]\n",
    "},\n",
    "{\n",
    "  \"country\": \"Germany\",\n",
    "  \"visits\": 5,\n",
    "  \"cities\": [\"Berlin\", \"Hamburg\", \"Stuttgart\"]\n",
    "},\n",
    "]\n",
    "\n",
    "def add_new_country(country_visited, times_visited, cities_visited):\n",
    "    new_country = {}\n",
    "    new_country[\"country\"] = country_visited\n",
    "    new_country[\"visits\"] = times_visited\n",
    "    new_country[\"cities\"] = cities_visited\n",
    "    travel_log.append(new_country)\n",
    "\n",
    "add_new_country(\"Russia\", 2, [\"Moscow\", \"Saint Petersburg\"])\n",
    "print(travel_log)\n"
   ]
  },
  {
   "cell_type": "code",
   "execution_count": 6,
   "metadata": {},
   "outputs": [
    {
     "output_type": "stream",
     "name": "stdout",
     "text": [
      "29\n"
     ]
    }
   ],
   "source": [
    "def is_leap(year):\n",
    "  if year % 4 == 0:\n",
    "    if year % 100 == 0:\n",
    "      if year % 400 == 0:\n",
    "        return True\n",
    "      else:\n",
    "        return False\n",
    "    else:\n",
    "      return True\n",
    "  else:\n",
    "    return False\n",
    "\n",
    "def days_in_month(year, month):\n",
    "  month_days = [31, 28, 31, 30, 31, 30, 31, 31, 30, 31, 30, 31]  \n",
    "  if is_leap(year) and month == 2:\n",
    "      return 29\n",
    "  return month_days[month - 1]\n",
    "  \n",
    "\n",
    "year = int(input(\"Enter a year: \"))\n",
    "month = int(input(\"Enter a month: \"))\n",
    "days = days_in_month(year, month)\n",
    "print(days)\n"
   ]
  },
  {
   "cell_type": "code",
   "execution_count": 8,
   "metadata": {},
   "outputs": [
    {
     "output_type": "stream",
     "name": "stdout",
     "text": [
      "15\n"
     ]
    }
   ],
   "source": [
    "def outer_function(a, b):\n",
    "    def inner_function(c, d):\n",
    "        return c + d\n",
    "    return inner_function(a, b)\n",
    " \n",
    "result = outer_function(5, 10)\n",
    "print(result)"
   ]
  },
  {
   "cell_type": "code",
   "execution_count": null,
   "metadata": {},
   "outputs": [],
   "source": []
  }
 ]
}