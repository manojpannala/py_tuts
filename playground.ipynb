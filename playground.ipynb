{
 "metadata": {
  "language_info": {
   "codemirror_mode": {
    "name": "ipython",
    "version": 3
   },
   "file_extension": ".py",
   "mimetype": "text/x-python",
   "name": "python",
   "nbconvert_exporter": "python",
   "pygments_lexer": "ipython3",
   "version": "3.8.5"
  },
  "orig_nbformat": 2,
  "kernelspec": {
   "name": "python3",
   "display_name": "Python 3.8.5 64-bit",
   "metadata": {
    "interpreter": {
     "hash": "e675de05f2dbb7fb877961e009a7ca1c195e4f85742f4de6f9425e0c7dcee330"
    }
   }
  }
 },
 "nbformat": 4,
 "nbformat_minor": 2,
 "cells": [
  {
   "cell_type": "code",
   "execution_count": 2,
   "metadata": {},
   "outputs": [
    {
     "output_type": "stream",
     "name": "stdout",
     "text": [
      "Your bmi is 27 and you are overweight\n"
     ]
    }
   ],
   "source": [
    "# BMI CALCULATOR\n",
    "\n",
    "height = input(\"enter your height in m: \")\n",
    "weight = input(\"enter your weight in kg: \")\n",
    "\n",
    "bmi = int (weight) / float (height) ** 2\n",
    "bmi_int = int (bmi)\n",
    "# print (bmi_int)\n",
    "if bmi_int < 18:\n",
    "    print(f\"Your bmi is {bmi_int} and you are underweight.\")\n",
    "elif bmi_int < 25:\n",
    "    print(f\"Your bmi is {bmi_int} and you are normal weight.\")\n",
    "elif bmi_int < 30:\n",
    "    print(f\"Your bmi is {bmi_int} and you are overweight.\")\n",
    "elif bmi_int < 35:\n",
    "    print(f\"Your bmi is {bmi_int} and you are obese.\")\n",
    "else:\n",
    "    print(f\"Your bmi is {bmi_int} and you are clinically obese.\")\n"
   ]
  },
  {
   "cell_type": "code",
   "execution_count": 5,
   "metadata": {},
   "outputs": [
    {
     "output_type": "stream",
     "name": "stdout",
     "text": [
      "You have 23725 days, 3380 weeks and 780 months left.\n"
     ]
    }
   ],
   "source": [
    "# Life in Weeks\n",
    "\n",
    "age = input('What is your current age?: ')\n",
    "age_as_int = int(age)\n",
    "\n",
    "years = 90 - age_as_int\n",
    "days = years * 365\n",
    "weeks = years * 52\n",
    "months = years * 12\n",
    "\n",
    "life_in_weeks = f'You have {days} days, {weeks} weeks and {months} months left.'\n",
    "print(life_in_weeks)"
   ]
  },
  {
   "cell_type": "code",
   "execution_count": 8,
   "metadata": {},
   "outputs": [
    {
     "output_type": "stream",
     "name": "stdout",
     "text": [
      "Welcome to the Split Calculator\n",
      "How much each person should split is : $ 42.00\n"
     ]
    }
   ],
   "source": [
    "# Split-Wise duplicate\n",
    "\n",
    "print('Welcome to the Split Calculator')\n",
    "bill = float(input('What was the total bill? $ '))\n",
    "tip = int(input(\"How much tip did you gave? 10% or 12% or 20%? : \"))\n",
    "people = int(input(\"How many people to split the bill? : \"))\n",
    "\n",
    "bill_with_tip = tip / 100 * bill + bill\n",
    "split_with_tip = bill_with_tip / people\n",
    "\n",
    "final_amount = round(split_with_tip, 2)\n",
    "final_amount = \"{:.2f}\".format(split_with_tip) # Formatting to two decimal digits\n",
    "\n",
    "print(f\"How much each person should split is : $ {final_amount}\")"
   ]
  },
  {
   "cell_type": "code",
   "execution_count": 1,
   "metadata": {},
   "outputs": [
    {
     "output_type": "stream",
     "name": "stdout",
     "text": [
      "This is an even number.\n"
     ]
    }
   ],
   "source": [
    "number = int(input(\"Which number do you want to check?: \"))\n",
    "if number % 2 == 0:\n",
    "    print(\"This is an even number.\")\n",
    "else:\n",
    "    print(\"This is an odd number.\")\n"
   ]
  },
  {
   "cell_type": "code",
   "execution_count": 3,
   "metadata": {},
   "outputs": [
    {
     "output_type": "stream",
     "name": "stdout",
     "text": [
      "2024 is a leap year.\n"
     ]
    }
   ],
   "source": [
    "# Leap Year\n",
    "\n",
    "year = int(input(\"Which year do you want to check?: \"))\n",
    "\n",
    "if (year % 4) == 0:\n",
    "    if (year % 100) == 0:\n",
    "        if (year % 400) == 0:\n",
    "            print (f\"{year} is a leap year.\")\n",
    "        else:\n",
    "            print (f\"{year} is not a leap year.\")\n",
    "    else:\n",
    "        print (f\"{year} is a leap year.\")\n",
    "else:\n",
    "    print (f\"{year} is not a leap year.\")"
   ]
  },
  {
   "cell_type": "code",
   "execution_count": 6,
   "metadata": {},
   "outputs": [
    {
     "output_type": "stream",
     "name": "stdout",
     "text": [
      "Welcome to Python Pizza Deliveries!\n",
      "Your final bill is $24\n"
     ]
    }
   ],
   "source": [
    "print(\"Welcome to Python Pizza Deliveries!\")\n",
    "size = input(\"What size do you want? S, M or L : \")\n",
    "add_pepperoni = input(\"Do you want pepperoni? Y or N : \")\n",
    "extra_cheese = input(\"Do you want extra cheese? Y or N : \")\n",
    "\n",
    "bill = 0\n",
    "\n",
    "if size == 'S':\n",
    "    bill += 15\n",
    "elif size == 'M':\n",
    "    bill += 20\n",
    "else:\n",
    "    bill += 25\n",
    "\n",
    "if add_pepperoni == 'Y':\n",
    "    if size == 'S':\n",
    "        bill += 2\n",
    "    else:\n",
    "        bill += 3\n",
    "if extra_cheese == 'Y':\n",
    "    bill += 1\n",
    "\n",
    "print(f'Your final bill is ${bill}')"
   ]
  },
  {
   "cell_type": "code",
   "execution_count": 8,
   "metadata": {},
   "outputs": [
    {
     "output_type": "stream",
     "name": "stdout",
     "text": [
      "Welcome to the Love Calculator\n",
      "Your love score is 12.\n"
     ]
    }
   ],
   "source": [
    "print(\"Welcome to the Love Calculator\")\n",
    "print(\"This is based on the article from TheBuzzFeed\")\n",
    "\n",
    "name1 = input(\"What is your name? \\n\")\n",
    "name2 = input(\"What is your partner's name? \\n\")\n",
    "\n",
    "combined_string = name1 + name2\n",
    "lower_case_string = combined_string.lower()\n",
    "\n",
    "t = lower_case_string.count(\"t\")\n",
    "r = lower_case_string.count(\"r\")\n",
    "u = lower_case_string.count(\"u\")\n",
    "e = lower_case_string.count(\"e\")\n",
    "\n",
    "true = t + r + u + e\n",
    "\n",
    "l = lower_case_string.count(\"l\")\n",
    "o = lower_case_string.count(\"o\")\n",
    "v = lower_case_string.count(\"v\")\n",
    "e = lower_case_string.count(\"e\")\n",
    "\n",
    "love = l + o + v + e\n",
    "\n",
    "love_score = int(str(true) + str(love))\n",
    "\n",
    "if (love_score < 10) or (love_score > 90):\n",
    "   print (f\"Your love score is {love_score}, you go together like coke and mentos.\")\n",
    "elif (love_score >= 40) and (love_score <= 50):\n",
    "   print (f\"Your love score is {love_score}, you are alright together.\")\n",
    "else:\n",
    "   print (f\"Your love score is {love_score}.\")\n",
    "\n",
    "    "
   ]
  },
  {
   "cell_type": "code",
   "execution_count": null,
   "metadata": {},
   "outputs": [],
   "source": []
  }
 ]
}